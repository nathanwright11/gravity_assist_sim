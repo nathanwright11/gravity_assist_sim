{
 "cells": [
  {
   "cell_type": "code",
   "execution_count": 10,
   "metadata": {},
   "outputs": [],
   "source": [
    "from numpy import arange\n",
    "import matplotlib.pyplot as plt\n",
    "from vpython import *"
   ]
  },
  {
   "cell_type": "markdown",
   "metadata": {},
   "source": [
    "### Parameters for all objects"
   ]
  },
  {
   "cell_type": "code",
   "execution_count": 2,
   "metadata": {},
   "outputs": [],
   "source": [
    "#Mass (kg)\n",
    "rocket_mass = 550*10**3                  #Mass of Falcon-9\n",
    "jupiter_mass = 1.8982*10**27\n",
    "\n",
    "#Radii (m)\n",
    "rocket_radius = 10*10**2                 #Arbitrary radius for visibilty\n",
    "jupiter_radius = 71.492*10**6\n",
    "\n",
    "#Standard gravitational parameter (m^3/s^2)\n",
    "j_grav_param = 1.267*10**17"
   ]
  },
  {
   "cell_type": "markdown",
   "metadata": {},
   "source": [
    "#### Other Constants"
   ]
  },
  {
   "cell_type": "code",
   "execution_count": 3,
   "metadata": {},
   "outputs": [],
   "source": [
    "#Average distance of Jupiter from sun (m)\n",
    "jupiter_sun_dist = 778*10**9            \n",
    "dist_factor = 1000\n",
    "\n",
    "#Reduces jupiter-sun distance by dist_factor\n",
    "jupiter_sun_dist = jupiter_sun_dist/dist_factor"
   ]
  },
  {
   "cell_type": "markdown",
   "metadata": {},
   "source": [
    "### Functions"
   ]
  },
  {
   "cell_type": "code",
   "execution_count": 4,
   "metadata": {},
   "outputs": [],
   "source": [
    "#Calculates acceleration vector for rocket depending on sphere of influence (soi)\n",
    "def r_accel(i, jupiter_pull_on_rocket):\n",
    "    #Jupiter pull on rocket\n",
    "    r_force = jupiter_pull_on_rocket*norm(jupiter.pos-r_pos_array[i])\n",
    "    return r_force / rocket_mass\n",
    "\n",
    "\n",
    "#Sets text of rocket label during simulation\n",
    "def r_label_txt (i, jupiter_pull_on_rocket, flag):\n",
    "    #Calculations of variables\n",
    "    o_vel = mag(r_vel_array[i])\n",
    "    j_pull = int(jupiter_pull_on_rocket*10**-3)\n",
    "    \n",
    "    text = (\n",
    "            f\"Falcon-9\"\n",
    "            f\"\\nVelocity: {o_vel/1000:.2f}km/s\"   \n",
    "            f\"\\nPull from Jupiter: {j_pull}kN\"\n",
    "        )\n",
    "    if flag==True:\n",
    "        alert = \"\\n*PLEASE INSERT (2) COINS TO CONTINUE*\\n\"\n",
    "        text = alert + text + alert\n",
    "    return text"
   ]
  },
  {
   "cell_type": "markdown",
   "metadata": {},
   "source": [
    "### Initialization of Objects"
   ]
  },
  {
   "cell_type": "code",
   "execution_count": 5,
   "metadata": {},
   "outputs": [],
   "source": [
    "#Initial positions\n",
    "r_init_pos = vector(-0.3*jupiter_sun_dist,-0.3*jupiter_sun_dist,0)\n",
    "j_init_pos = vector(jupiter_sun_dist, -jupiter_sun_dist/10, 0)\n",
    "\n",
    "#Setting initial positions into arrays for tracking\n",
    "r_pos_array = [r_init_pos]     \n",
    "j_pos_array = [j_init_pos]\n",
    "\n",
    "#Initial Velocity (m/s)\n",
    "r_init_vel = 40*10**3\n",
    "\n",
    "#Average orbital velocity for jupiter (m/s)\n",
    "j_vel = 13.06*10**3\n",
    "\n",
    "#Adds velocity vectors to array\n",
    "r_vel_array = [vector(r_init_vel, r_init_vel/3, 0) ]  \n",
    "j_vel_array = [vector(0, j_vel, 0)]"
   ]
  },
  {
   "cell_type": "code",
   "execution_count": 6,
   "metadata": {},
   "outputs": [
    {
     "data": {
      "application/javascript": [
       "if (typeof Jupyter !== \"undefined\") {require.undef(\"nbextensions/vpython_libraries/glow.min\");}else{element.textContent = ' ';}"
      ],
      "text/plain": [
       "<IPython.core.display.Javascript object>"
      ]
     },
     "metadata": {},
     "output_type": "display_data"
    },
    {
     "data": {
      "application/javascript": [
       "if (typeof Jupyter !== \"undefined\") {require.undef(\"nbextensions/vpython_libraries/glowcomm\");}else{element.textContent = ' ';}"
      ],
      "text/plain": [
       "<IPython.core.display.Javascript object>"
      ]
     },
     "metadata": {},
     "output_type": "display_data"
    },
    {
     "data": {
      "application/javascript": [
       "if (typeof Jupyter !== \"undefined\") {require.undef(\"nbextensions/vpython_libraries/jquery-ui.custom.min\");}else{element.textContent = ' ';}"
      ],
      "text/plain": [
       "<IPython.core.display.Javascript object>"
      ]
     },
     "metadata": {},
     "output_type": "display_data"
    },
    {
     "data": {
      "application/javascript": [
       "if (typeof Jupyter !== \"undefined\") {require([\"nbextensions/vpython_libraries/glow.min\"], function(){console.log(\"GLOW LOADED\");});}else{element.textContent = ' ';}"
      ],
      "text/plain": [
       "<IPython.core.display.Javascript object>"
      ]
     },
     "metadata": {},
     "output_type": "display_data"
    },
    {
     "data": {
      "application/javascript": [
       "if (typeof Jupyter !== \"undefined\") {require([\"nbextensions/vpython_libraries/glowcomm\"], function(){console.log(\"GLOWCOMM LOADED\");});}else{element.textContent = ' ';}"
      ],
      "text/plain": [
       "<IPython.core.display.Javascript object>"
      ]
     },
     "metadata": {},
     "output_type": "display_data"
    },
    {
     "data": {
      "application/javascript": [
       "if (typeof Jupyter !== \"undefined\") {require([\"nbextensions/vpython_libraries/jquery-ui.custom.min\"], function(){console.log(\"JQUERY LOADED\");});}else{element.textContent = ' ';}"
      ],
      "text/plain": [
       "<IPython.core.display.Javascript object>"
      ]
     },
     "metadata": {},
     "output_type": "display_data"
    }
   ],
   "source": [
    "#VPython objects must happen after initialization of position arrays\n",
    "\n",
    "jupiter = sphere(pos = j_init_pos, \n",
    "                 radius = jupiter_radius, \n",
    "                 color = color.orange)\n",
    "\n",
    "rocket = sphere(pos = r_init_pos, \n",
    "                radius = rocket_radius, \n",
    "                color = color.yellow, \n",
    "                make_trail = True, \n",
    "                retain = 50)"
   ]
  },
  {
   "cell_type": "markdown",
   "metadata": {},
   "source": [
    "## Simulation Loops"
   ]
  },
  {
   "cell_type": "markdown",
   "metadata": {},
   "source": [
    "#### Constants for loops"
   ]
  },
  {
   "cell_type": "code",
   "execution_count": 7,
   "metadata": {},
   "outputs": [],
   "source": [
    "#Initialization for r_label_text argument\n",
    "flag = False\n",
    "\n",
    "#Increase speed of animation by (time_step)x\n",
    "time_step = 1\n",
    "calc_rate = 1000\n",
    "\n",
    "#Sets how many times loop will iterate\n",
    "really_long_time = 60*10**3 "
   ]
  },
  {
   "cell_type": "code",
   "execution_count": 8,
   "metadata": {},
   "outputs": [
    {
     "data": {
      "text/html": [
       "<div id=\"glowscript\" class=\"glowscript\"></div>"
      ],
      "text/plain": [
       "<IPython.core.display.HTML object>"
      ]
     },
     "metadata": {},
     "output_type": "display_data"
    },
    {
     "data": {
      "application/javascript": [
       "if (typeof Jupyter !== \"undefined\") { window.__context = { glowscript_container: $(\"#glowscript\").removeAttr(\"id\")};}else{ element.textContent = ' ';}"
      ],
      "text/plain": [
       "<IPython.core.display.Javascript object>"
      ]
     },
     "metadata": {},
     "output_type": "display_data"
    }
   ],
   "source": [
    "canvas(width=600, height=180)\n",
    "\n",
    "#Initialized in this cell so canvas output stays here\n",
    "rocket_label = (\n",
    "    label(canvas=scene,\n",
    "          pixel_pos=True, pos=vec(70,75,0), \n",
    "          align=\"center\", text=\"Loading...\", height=10, opacity=1)\n",
    ")\n",
    "\n",
    "\n",
    "###Calculation and Animation Loop\n",
    "for time in range(1, really_long_time):\n",
    "    rate(2*calc_rate) \n",
    "    \n",
    "\n",
    "###Calculations of current position and velocity vectors\n",
    "    \n",
    "    #Force of jupiter on rocket\n",
    "    j_r_f = j_grav_param * rocket_mass / mag2(jupiter.pos - r_pos_array[time-1])\n",
    "    \n",
    "    #Calculates intermediary velocity vector\n",
    "    r_vel_step = r_vel_array[time-1] + r_accel(time-1, j_r_f)*(time_step/2)\n",
    "    \n",
    "    #Adds next element to position array for both objects\n",
    "    r_pos_array.append(r_pos_array[time-1] + r_vel_step*time_step)\n",
    "    j_pos_array.append(j_pos_array[time-1] + j_vel_array[time-1]*time_step)\n",
    "    \n",
    "    #Updates rocket label \n",
    "    rocket_label.text = r_label_txt(time-1, j_r_f, flag)   \n",
    "    \n",
    "    \n",
    "###Calculation of future elements (time+1)\n",
    "\n",
    "    #Force of jupiter on rocket\n",
    "    j_r_f = j_grav_param * rocket_mass / mag2(jupiter.pos - r_pos_array[time])\n",
    "    \n",
    "    #Adds next elements to vector arrays\n",
    "    r_vel_array.append(r_vel_step + r_accel(time, j_r_f)*(time_step/2))\n",
    "    j_vel_array.append(j_vel_array[time-1])\n",
    "    \n",
    "    #Updates object positions\n",
    "    rocket.pos = r_pos_array[time]\n",
    "    jupiter.pos = j_pos_array[time]\n",
    "    \n",
    "    #Updates rocket label \n",
    "    rocket_label.text = r_label_txt(time, j_r_f, flag) \n",
    "    \n",
    "    \n",
    "#Changes rocket label once out of loop\n",
    "flag = True\n",
    "rocket_label.pos = vec(115,100,0)\n",
    "rocket_label.text = r_label_txt(time, j_r_f, flag)"
   ]
  },
  {
   "cell_type": "markdown",
   "metadata": {},
   "source": [
    "### Plot of Rocket's velocity\n",
    "\n",
    "The velocity plot is calculated from Sun's reference frame, as Jupiter is moving. From Jupiter's reference frame, it wouldn't be moving and velocity would have gone back to the same value before being in Jupiter's sphere of influence."
   ]
  },
  {
   "cell_type": "code",
   "execution_count": 11,
   "metadata": {},
   "outputs": [],
   "source": [
    "#Creates x-axis from number of rocket positions calculated\n",
    "x = arange(len(r_pos_array))\n",
    "\n",
    "#Vectors in r_vel_array are converted to magnitude\n",
    "r_vel_array = list(map(lambda x: mag(x), r_vel_array))"
   ]
  },
  {
   "cell_type": "code",
   "execution_count": 12,
   "metadata": {},
   "outputs": [
    {
     "data": {
      "image/png": "[encoded data removed]",
      "text/plain": [
       "<Figure size 432x288 with 1 Axes>"
      ]
     },
     "metadata": {
      "needs_background": "light"
     },
     "output_type": "display_data"
    }
   ],
   "source": [
    "plt.plot(x, r_vel_array)\n",
    "plt.title(\"Rocket's velocity (Sun's reference frame)\")\n",
    "plt.xlabel(\"time (s)\")\n",
    "plt.ylabel(\"velocity (m/s)\")\n",
    "plt.show()"
   ]
  },
  {
   "cell_type": "code",
   "execution_count": null,
   "metadata": {},
   "outputs": [],
   "source": []
  }
 ],
 "metadata": {
  "kernelspec": {
   "display_name": "Python 3",
   "language": "python",
   "name": "python3"
  },
  "language_info": {
   "codemirror_mode": {
    "name": "ipython",
    "version": 3
   },
   "file_extension": ".py",
   "mimetype": "text/x-python",
   "name": "python",
   "nbconvert_exporter": "python",
   "pygments_lexer": "ipython3",
   "version": "3.7.4"
  }
 },
 "nbformat": 4,
 "nbformat_minor": 2
}
